{
 "cells": [
  {
   "cell_type": "code",
   "execution_count": 7,
   "metadata": {},
   "outputs": [
    {
     "name": "stdout",
     "output_type": "stream",
     "text": [
      "Yp\n"
     ]
    }
   ],
   "source": [
    "import random\n",
    "import string\n",
    "\n",
    "def Password_generator(length,uppercase,lowercase,numbers,symbols):\n",
    "    characters = ''\n",
    "    if uppercase:\n",
    "        characters += string.ascii_uppercase\n",
    "    if lowercase:\n",
    "        characters += string.ascii_lowercase\n",
    "    if numbers:\n",
    "        characters += string.digits\n",
    "    if symbols:\n",
    "        characters += string.punctuation\n",
    "    if not characters:\n",
    "        return \"Error: No character types selected for the password!\"\n",
    "\n",
    "\n",
    "    password = ''.join(random.choice(characters) for _ in range(length))\n",
    "    return password\n",
    "\n",
    "length = int(input(\"enter the length of password\"))\n",
    "uppercase = input(\"Include Uppercase yes/no\").lower() == 'yes'\n",
    "lowercase = input(\"Include Lowercase yes/no\").lower() == 'yes'\n",
    "numbers =   input(\"Include Numbers yes/no\").lower() == 'yes'\n",
    "symbols = input(\"Include Sysmbols yes/no\").lower() == 'yes'\n",
    "\n",
    "password =Password_generator(length,uppercase,lowercase,numbers,symbols)\n",
    "print(password)"
   ]
  },
  {
   "cell_type": "code",
   "execution_count": null,
   "metadata": {},
   "outputs": [],
   "source": []
  },
  {
   "cell_type": "code",
   "execution_count": null,
   "metadata": {},
   "outputs": [],
   "source": []
  }
 ],
 "metadata": {
  "kernelspec": {
   "display_name": "Python 3",
   "language": "python",
   "name": "python3"
  },
  "language_info": {
   "codemirror_mode": {
    "name": "ipython",
    "version": 3
   },
   "file_extension": ".py",
   "mimetype": "text/x-python",
   "name": "python",
   "nbconvert_exporter": "python",
   "pygments_lexer": "ipython3",
   "version": "3.12.5"
  }
 },
 "nbformat": 4,
 "nbformat_minor": 2
}
